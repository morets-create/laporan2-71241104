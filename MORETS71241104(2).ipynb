{
  "nbformat": 4,
  "nbformat_minor": 0,
  "metadata": {
    "colab": {
      "provenance": []
    },
    "kernelspec": {
      "name": "python3",
      "display_name": "Python 3"
    },
    "language_info": {
      "name": "python"
    }
  },
  "cells": [
    {
      "cell_type": "code",
      "execution_count": 7,
      "metadata": {
        "colab": {
          "base_uri": "https://localhost:8080/"
        },
        "id": "AHfTi1cvxf2Z",
        "outputId": "2f5b022b-46ed-417c-e974-920aa54f52ec"
      },
      "outputs": [
        {
          "output_type": "stream",
          "name": "stdout",
          "text": [
            "masukan BMI kamu:20.1\n",
            "masukan Tinggi badan kamu:1.8\n",
            "65\n"
          ]
        }
      ],
      "source": [
        "BMI = float(input('masukan BMI kamu:'))\n",
        "TINGGI_BADAN = float(input('masukan Tinggi badan kamu:'))\n",
        "berat_badan = (BMI * (TINGGI_BADAN * TINGGI_BADAN))\n",
        "\n",
        "print(round(berat_badan))\n",
        "\n"
      ]
    },
    {
      "cell_type": "code",
      "source": [
        "x = int(input('masukan nilai x'))\n",
        "a = (2 * (x ** 3)) + (2 * x ) + (15 / x)\n",
        "\n",
        "print(a)\n"
      ],
      "metadata": {
        "colab": {
          "base_uri": "https://localhost:8080/"
        },
        "id": "i1gdeJwH98QN",
        "outputId": "2bb1eff7-faaa-4126-931b-c568f80955c7"
      },
      "execution_count": 9,
      "outputs": [
        {
          "output_type": "stream",
          "name": "stdout",
          "text": [
            "masukan nilai x12\n",
            "3481.25\n"
          ]
        }
      ]
    },
    {
      "cell_type": "code",
      "source": [
        "gaji_per_jam = int(input('masukan gaji perjam:'))\n",
        "jumlah_jam_kerja = int(input('masukan jam kerja:'))\n",
        "\n",
        "gaji = gaji_per_jam * jumlah_jam_kerja\n",
        "gaji_bersih = gaji - (gaji * 0.14)\n",
        "baju_aksesoris = gaji_bersih * 0.1\n",
        "alat_tulis = gaji_bersih * 0.01\n",
        "sedekah = gaji_bersih * 0.25\n",
        "untuk_yatim = sedekah * 0.3\n",
        "untuk_dhuafa = sedekah - untuk_yatim\n",
        "\n",
        "print('gaji kotor:',gaji)\n",
        "print('gaji bersih:',gaji_bersih)\n",
        "print('pengeluaran untuk baju dan aksesoris:',baju_aksesoris)\n",
        "print('pengeluaran untuk alat tulis:',alat_tulis)\n",
        "print('uang untuk sedekah:',sedekah)\n",
        "print('yang diterima anak yatim:',untuk_yatim)\n",
        "print('yang diterima kaum dhuafa:',untuk_dhuafa)\n",
        "\n"
      ],
      "metadata": {
        "colab": {
          "base_uri": "https://localhost:8080/"
        },
        "id": "TSAPmljyAQzq",
        "outputId": "e659f66d-8e57-4c8d-e107-74db1f99e983"
      },
      "execution_count": 10,
      "outputs": [
        {
          "output_type": "stream",
          "name": "stdout",
          "text": [
            "masukan gaji perjam:20000\n",
            "masukan jam kerja:5\n",
            "gaji kotor: 100000\n",
            "gaji bersih: 86000.0\n",
            "pengeluaran untuk baju dan aksesoris: 8600.0\n",
            "pengeluaran untuk alat tulis: 860.0\n",
            "uang untuk sedekah: 21500.0\n",
            "yang diterima anak yatim: 6450.0\n",
            "yang diterima kaum dhuafa: 15050.0\n"
          ]
        }
      ]
    }
  ]
}